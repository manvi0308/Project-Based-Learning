{
  "nbformat": 4,
  "nbformat_minor": 0,
  "metadata": {
    "colab": {
      "name": "Python Pandas Intro",
      "provenance": [],
      "collapsed_sections": [],
      "include_colab_link": true
    },
    "kernelspec": {
      "display_name": "Python 3",
      "name": "python3"
    }
  },
  "cells": [
    {
      "cell_type": "markdown",
      "metadata": {
        "id": "view-in-github",
        "colab_type": "text"
      },
      "source": [
        "<a href=\"https://colab.research.google.com/github/manvi0308/Project-Based-Learning/blob/main/Python_Pandas_Intro.ipynb\" target=\"_parent\"><img src=\"https://colab.research.google.com/assets/colab-badge.svg\" alt=\"Open In Colab\"/></a>"
      ]
    },
    {
      "cell_type": "code",
      "metadata": {
        "id": "y_aPEAgGOFox"
      },
      "source": [
        "import pandas as pd\n"
      ],
      "execution_count": null,
      "outputs": []
    },
    {
      "cell_type": "code",
      "metadata": {
        "id": "HhgySQFpOH4Z"
      },
      "source": [
        "df = pd.DataFrame([\n",
        "\n",
        "  [1,2,3,4,5],\n",
        "  [6,7,8,9,10],\n",
        "  [11,12,13,14,15]\n",
        "],index=[0,1,2],columns=['cl1','cl2','cl3','cl4','cl5'])"
      ],
      "execution_count": null,
      "outputs": []
    },
    {
      "cell_type": "code",
      "metadata": {
        "colab": {
          "base_uri": "https://localhost:8080/"
        },
        "id": "7svM8zHpOf5O",
        "outputId": "1612a386-607d-4eac-eb7e-c264f6ba7775"
      },
      "source": [
        "print(df)"
      ],
      "execution_count": null,
      "outputs": [
        {
          "output_type": "stream",
          "text": [
            "   cl1  cl2  cl3  cl4  cl5\n",
            "0    1    2    3    4    5\n",
            "1    6    7    8    9   10\n",
            "2   11   12   13   14   15\n"
          ],
          "name": "stdout"
        }
      ]
    },
    {
      "cell_type": "code",
      "metadata": {
        "colab": {
          "base_uri": "https://localhost:8080/"
        },
        "id": "8XdFLtdTOoOa",
        "outputId": "cf1a4b9d-cfd4-462d-fbef-14f0708f1cd1"
      },
      "source": [
        "print(df.head(1))\n"
      ],
      "execution_count": null,
      "outputs": [
        {
          "output_type": "stream",
          "text": [
            "   cl1  cl2  cl3  cl4  cl5\n",
            "0    1    2    3    4    5\n"
          ],
          "name": "stdout"
        }
      ]
    },
    {
      "cell_type": "code",
      "metadata": {
        "colab": {
          "base_uri": "https://localhost:8080/"
        },
        "id": "0_GzL3prOroa",
        "outputId": "b7b694c7-9b54-45fd-c151-faf11a82b955"
      },
      "source": [
        "print(df.dtypes)"
      ],
      "execution_count": null,
      "outputs": [
        {
          "output_type": "stream",
          "text": [
            "cl1    int64\n",
            "cl2    int64\n",
            "cl3    int64\n",
            "cl4    int64\n",
            "cl5    int64\n",
            "dtype: object\n"
          ],
          "name": "stdout"
        }
      ]
    },
    {
      "cell_type": "code",
      "metadata": {
        "colab": {
          "base_uri": "https://localhost:8080/"
        },
        "id": "faaWPPYcOwAd",
        "outputId": "54de8f83-1269-4730-c117-eb2b3dac4e93"
      },
      "source": [
        "print(df.index)"
      ],
      "execution_count": null,
      "outputs": [
        {
          "output_type": "stream",
          "text": [
            "Int64Index([0, 1, 2], dtype='int64')\n"
          ],
          "name": "stdout"
        }
      ]
    },
    {
      "cell_type": "code",
      "metadata": {
        "colab": {
          "base_uri": "https://localhost:8080/"
        },
        "id": "bfez5-yBPCNm",
        "outputId": "bc84b059-eb5b-449e-d7a1-fa918de3fb39"
      },
      "source": [
        "print(df.columns)"
      ],
      "execution_count": null,
      "outputs": [
        {
          "output_type": "stream",
          "text": [
            "Index(['cl1', 'cl2', 'cl3', 'cl4', 'cl5'], dtype='object')\n"
          ],
          "name": "stdout"
        }
      ]
    },
    {
      "cell_type": "code",
      "metadata": {
        "colab": {
          "base_uri": "https://localhost:8080/"
        },
        "id": "WASJxFcNPMTT",
        "outputId": "17ef3956-3a22-4f35-8dab-996b75396a5e"
      },
      "source": [
        "print(df.values)"
      ],
      "execution_count": null,
      "outputs": [
        {
          "output_type": "stream",
          "text": [
            "[[ 1  2  3  4  5]\n",
            " [ 6  7  8  9 10]\n",
            " [11 12 13 14 15]]\n"
          ],
          "name": "stdout"
        }
      ]
    },
    {
      "cell_type": "code",
      "metadata": {
        "colab": {
          "base_uri": "https://localhost:8080/"
        },
        "id": "wnrVGQ85PVqt",
        "outputId": "3948d520-c1cb-4a8c-9741-60eaab03f400"
      },
      "source": [
        "print(df.describe)"
      ],
      "execution_count": null,
      "outputs": [
        {
          "output_type": "stream",
          "text": [
            "<bound method NDFrame.describe of    cl1  cl2  cl3  cl4  cl5\n",
            "0    1    2    3    4    5\n",
            "1    6    7    8    9   10\n",
            "2   11   12   13   14   15>\n"
          ],
          "name": "stdout"
        }
      ]
    },
    {
      "cell_type": "code",
      "metadata": {
        "colab": {
          "base_uri": "https://localhost:8080/"
        },
        "id": "ZCYKmEoLPZrF",
        "outputId": "105e19ae-cbbd-4148-da11-3af1c0a298d8"
      },
      "source": [
        "print(df.sort_values('cl1',ascending=True))"
      ],
      "execution_count": null,
      "outputs": [
        {
          "output_type": "stream",
          "text": [
            "   cl1  cl2  cl3  cl4  cl5\n",
            "0    1    2    3    4    5\n",
            "1    6    7    8    9   10\n",
            "2   11   12   13   14   15\n"
          ],
          "name": "stdout"
        }
      ]
    },
    {
      "cell_type": "code",
      "metadata": {
        "colab": {
          "base_uri": "https://localhost:8080/"
        },
        "id": "E9Rt7OpOPrjm",
        "outputId": "5284798d-f372-43cf-ef01-95c51c39e9e4"
      },
      "source": [
        "print(df[df.cl1 > 1])"
      ],
      "execution_count": null,
      "outputs": [
        {
          "output_type": "stream",
          "text": [
            "   cl1  cl2  cl3  cl4  cl5\n",
            "1    6    7    8    9   10\n",
            "2   11   12   13   14   15\n"
          ],
          "name": "stdout"
        }
      ]
    },
    {
      "cell_type": "code",
      "metadata": {
        "id": "UrXi-0veQJAR"
      },
      "source": [
        ""
      ],
      "execution_count": null,
      "outputs": []
    },
    {
      "cell_type": "code",
      "metadata": {
        "id": "73EtM-shQhjq"
      },
      "source": [
        ""
      ],
      "execution_count": null,
      "outputs": []
    }
  ]
}